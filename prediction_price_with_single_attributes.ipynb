{
  "nbformat": 4,
  "nbformat_minor": 0,
  "metadata": {
    "colab": {
      "name": "rnn.ipynb",
      "provenance": [],
      "collapsed_sections": []
    },
    "kernelspec": {
      "display_name": "Python 3",
      "name": "python3"
    }
  },
  "cells": [
    {
      "cell_type": "markdown",
      "metadata": {
        "id": "xpAuMVCwfWs8"
      },
      "source": [
        "# Recurrent Neural Network"
      ]
    },
    {
      "cell_type": "markdown",
      "metadata": {
        "id": "nxJfRe4bfYVA"
      },
      "source": [
        "## Part 1 - Data Preprocessing"
      ]
    },
    {
      "cell_type": "markdown",
      "metadata": {
        "id": "ir9zwETrfbrp"
      },
      "source": [
        "### Importing the libraries"
      ]
    },
    {
      "cell_type": "code",
      "metadata": {
        "id": "ZT1f24vHffuf"
      },
      "source": [
        "import numpy as np\n",
        "import matplotlib.pyplot as plt\n",
        "import pandas as pd"
      ],
      "execution_count": 20,
      "outputs": []
    },
    {
      "cell_type": "markdown",
      "metadata": {
        "id": "nQ47JAxrgmaL"
      },
      "source": [
        "### Importing the training set"
      ]
    },
    {
      "cell_type": "code",
      "metadata": {
        "id": "1xiv3pJOgqY3"
      },
      "source": [
        "dataset_train = pd.read_csv(\"train.csv\")\n",
        "training_set = dataset_train.iloc[:,1:2].values"
      ],
      "execution_count": 21,
      "outputs": []
    },
    {
      "cell_type": "markdown",
      "metadata": {
        "id": "HT8_2UJegtG5"
      },
      "source": [
        "### Feature Scaling"
      ]
    },
    {
      "cell_type": "code",
      "metadata": {
        "colab": {
          "base_uri": "https://localhost:8080/"
        },
        "id": "OTrF2kR7gx9x",
        "outputId": "c887b190-0996-4911-ed9b-8d09d30b4450"
      },
      "source": [
        "from sklearn.preprocessing import MinMaxScaler\n",
        "sc = MinMaxScaler(feature_range = (0,1))\n",
        "training_set_scaled = sc.fit_transform(training_set)\n",
        "print(training_set_scaled)"
      ],
      "execution_count": 22,
      "outputs": [
        {
          "output_type": "stream",
          "text": [
            "[[0.07400078]\n",
            " [0.08376722]\n",
            " [0.0838953 ]\n",
            " ...\n",
            " [0.93494592]\n",
            " [0.89789109]\n",
            " [0.9036741 ]]\n"
          ],
          "name": "stdout"
        }
      ]
    },
    {
      "cell_type": "markdown",
      "metadata": {
        "id": "JyYgYocqhNUg"
      },
      "source": [
        "### Creating a data structure with 60 timesteps and 1 output"
      ]
    },
    {
      "cell_type": "code",
      "metadata": {
        "colab": {
          "base_uri": "https://localhost:8080/"
        },
        "id": "iofU21B0i6ST",
        "outputId": "2384655f-c434-41a0-ae12-9399ad0c9379"
      },
      "source": [
        "X_train = []\n",
        "y_train = []\n",
        "time_step = 60\n",
        "for i in range(time_step, 2690):\n",
        "  X_train.append(training_set_scaled[i-time_step : i, 0])\n",
        "  y_train.append(training_set_scaled[i,0])\n",
        "X_train, y_train = np.array(X_train), np.array(y_train)\n",
        "print(X_train)"
      ],
      "execution_count": 23,
      "outputs": [
        {
          "output_type": "stream",
          "text": [
            "[[0.07400078 0.08376722 0.0838953  ... 0.08463179 0.0870718  0.08162181]\n",
            " [0.08376722 0.0838953  0.08436281 ... 0.0870718  0.08162181 0.08018726]\n",
            " [0.0838953  0.08436281 0.08211493 ... 0.08162181 0.08018726 0.08559242]\n",
            " ...\n",
            " [0.80994191 0.83672437 0.8405605  ... 0.9394673  0.93684157 0.92015216]\n",
            " [0.83672437 0.8405605  0.84068218 ... 0.93684157 0.92015216 0.93494592]\n",
            " [0.8405605  0.84068218 0.85139004 ... 0.92015216 0.93494592 0.89789109]]\n"
          ],
          "name": "stdout"
        }
      ]
    },
    {
      "cell_type": "markdown",
      "metadata": {
        "id": "D8yaN7Zvi95l"
      },
      "source": [
        "### Reshaping"
      ]
    },
    {
      "cell_type": "code",
      "metadata": {
        "id": "FOXqJHmNjBkz"
      },
      "source": [
        "X_train = np.reshape(X_train,(X_train.shape[0], X_train.shape[1], 1))"
      ],
      "execution_count": 24,
      "outputs": []
    },
    {
      "cell_type": "markdown",
      "metadata": {
        "id": "ZRRSOJeVjEWV"
      },
      "source": [
        "## Part 2 - Building and Training the RNN"
      ]
    },
    {
      "cell_type": "markdown",
      "metadata": {
        "id": "k4XV88JMjHXG"
      },
      "source": [
        "### Importing the Keras libraries and packages"
      ]
    },
    {
      "cell_type": "code",
      "metadata": {
        "id": "9JRnqsxEjKsD"
      },
      "source": [
        "from keras.models import Sequential\n",
        "from keras.layers import Dense\n",
        "from keras.layers import LSTM\n",
        "from keras.layers import Dropout"
      ],
      "execution_count": 25,
      "outputs": []
    },
    {
      "cell_type": "markdown",
      "metadata": {
        "id": "FEIE-1s9jNzC"
      },
      "source": [
        "### Initialising the RNN"
      ]
    },
    {
      "cell_type": "code",
      "metadata": {
        "id": "1338dJ0UjRKH"
      },
      "source": [
        "regressor = Sequential()"
      ],
      "execution_count": 26,
      "outputs": []
    },
    {
      "cell_type": "markdown",
      "metadata": {
        "id": "62eg1OPGjT8z"
      },
      "source": [
        "### Adding the first LSTM layer and some Dropout regularisation"
      ]
    },
    {
      "cell_type": "code",
      "metadata": {
        "id": "2hIinyXUjbVU"
      },
      "source": [
        "regressor.add(LSTM(units= 100, return_sequences=True, input_shape =(X_train.shape[1], 1) ))\n",
        "regressor.add(Dropout(0.2))"
      ],
      "execution_count": 27,
      "outputs": []
    },
    {
      "cell_type": "markdown",
      "metadata": {
        "id": "3XBIYLyOjlMx"
      },
      "source": [
        "### Adding a second LSTM layer and some Dropout regularisation"
      ]
    },
    {
      "cell_type": "code",
      "metadata": {
        "id": "UG7nrVaSjuZ2"
      },
      "source": [
        "regressor.add(LSTM(units= 100, return_sequences=True))\n",
        "regressor.add(Dropout(0.2))"
      ],
      "execution_count": 28,
      "outputs": []
    },
    {
      "cell_type": "markdown",
      "metadata": {
        "id": "Ey3fHVnGj1cu"
      },
      "source": [
        "### Adding a third LSTM layer and some Dropout regularisation"
      ]
    },
    {
      "cell_type": "code",
      "metadata": {
        "id": "PuNi6PgFj7jO"
      },
      "source": [
        "regressor.add(LSTM(units= 100, return_sequences=True))\n",
        "regressor.add(Dropout(0.2))"
      ],
      "execution_count": 29,
      "outputs": []
    },
    {
      "cell_type": "markdown",
      "metadata": {
        "id": "SYTrtfTmj933"
      },
      "source": [
        "### Adding a fourth LSTM layer and some Dropout regularisation"
      ]
    },
    {
      "cell_type": "code",
      "metadata": {
        "id": "Jp4Ty8fRkBYV"
      },
      "source": [
        "regressor.add(LSTM(units= 100, return_sequences=False))\n",
        "regressor.add(Dropout(0.2))"
      ],
      "execution_count": 30,
      "outputs": []
    },
    {
      "cell_type": "markdown",
      "metadata": {
        "id": "9ABI6rOIkHhk"
      },
      "source": [
        "### Adding the output layer"
      ]
    },
    {
      "cell_type": "code",
      "metadata": {
        "id": "aM6R1z4WkME8"
      },
      "source": [
        "regressor.add(Dense(units=1))"
      ],
      "execution_count": 31,
      "outputs": []
    },
    {
      "cell_type": "markdown",
      "metadata": {
        "id": "zLx4K7uUkPSh"
      },
      "source": [
        "### Compiling the RNN"
      ]
    },
    {
      "cell_type": "code",
      "metadata": {
        "id": "XTrhVN-tkbko"
      },
      "source": [
        "regressor.compile(optimizer = 'adam', loss = 'mean_squared_error')"
      ],
      "execution_count": 32,
      "outputs": []
    },
    {
      "cell_type": "markdown",
      "metadata": {
        "id": "-mPhwKGkkebi"
      },
      "source": [
        "### Fitting the RNN to the Training set"
      ]
    },
    {
      "cell_type": "code",
      "metadata": {
        "colab": {
          "base_uri": "https://localhost:8080/"
        },
        "id": "mnTu3JZeKiIw",
        "outputId": "ffb4f014-757c-4726-adc8-498804dd97ed"
      },
      "source": [
        "regressor.fit(X_train, y_train, epochs = 100, batch_size= 32)"
      ],
      "execution_count": 33,
      "outputs": [
        {
          "output_type": "stream",
          "text": [
            "Epoch 1/100\n",
            "83/83 [==============================] - 16s 189ms/step - loss: 0.0113\n",
            "Epoch 2/100\n",
            "83/83 [==============================] - 17s 200ms/step - loss: 0.0036\n",
            "Epoch 3/100\n",
            "83/83 [==============================] - 17s 201ms/step - loss: 0.0031\n",
            "Epoch 4/100\n",
            "83/83 [==============================] - 17s 200ms/step - loss: 0.0032\n",
            "Epoch 5/100\n",
            "83/83 [==============================] - 17s 200ms/step - loss: 0.0026\n",
            "Epoch 6/100\n",
            "83/83 [==============================] - 17s 199ms/step - loss: 0.0023\n",
            "Epoch 7/100\n",
            "83/83 [==============================] - 17s 203ms/step - loss: 0.0021\n",
            "Epoch 8/100\n",
            "83/83 [==============================] - 17s 201ms/step - loss: 0.0022\n",
            "Epoch 9/100\n",
            "83/83 [==============================] - 16s 198ms/step - loss: 0.0019\n",
            "Epoch 10/100\n",
            "83/83 [==============================] - 17s 200ms/step - loss: 0.0018\n",
            "Epoch 11/100\n",
            "83/83 [==============================] - 17s 199ms/step - loss: 0.0017\n",
            "Epoch 12/100\n",
            "83/83 [==============================] - 17s 200ms/step - loss: 0.0018\n",
            "Epoch 13/100\n",
            "83/83 [==============================] - 17s 199ms/step - loss: 0.0016\n",
            "Epoch 14/100\n",
            "83/83 [==============================] - 17s 200ms/step - loss: 0.0017\n",
            "Epoch 15/100\n",
            "83/83 [==============================] - 17s 200ms/step - loss: 0.0016\n",
            "Epoch 16/100\n",
            "83/83 [==============================] - 17s 210ms/step - loss: 0.0017\n",
            "Epoch 17/100\n",
            "83/83 [==============================] - 17s 203ms/step - loss: 0.0015\n",
            "Epoch 18/100\n",
            "83/83 [==============================] - 17s 201ms/step - loss: 0.0015\n",
            "Epoch 19/100\n",
            "83/83 [==============================] - 17s 203ms/step - loss: 0.0015\n",
            "Epoch 20/100\n",
            "83/83 [==============================] - 17s 200ms/step - loss: 0.0016\n",
            "Epoch 21/100\n",
            "83/83 [==============================] - 17s 203ms/step - loss: 0.0013\n",
            "Epoch 22/100\n",
            "83/83 [==============================] - 17s 200ms/step - loss: 0.0013\n",
            "Epoch 23/100\n",
            "83/83 [==============================] - 17s 199ms/step - loss: 0.0014\n",
            "Epoch 24/100\n",
            "83/83 [==============================] - 17s 204ms/step - loss: 0.0013\n",
            "Epoch 25/100\n",
            "83/83 [==============================] - 17s 202ms/step - loss: 0.0012\n",
            "Epoch 26/100\n",
            "83/83 [==============================] - 17s 202ms/step - loss: 0.0014\n",
            "Epoch 27/100\n",
            "83/83 [==============================] - 17s 203ms/step - loss: 0.0012\n",
            "Epoch 28/100\n",
            "83/83 [==============================] - 17s 201ms/step - loss: 0.0012\n",
            "Epoch 29/100\n",
            "83/83 [==============================] - 17s 202ms/step - loss: 0.0012\n",
            "Epoch 30/100\n",
            "83/83 [==============================] - 17s 200ms/step - loss: 0.0013\n",
            "Epoch 31/100\n",
            "83/83 [==============================] - 17s 200ms/step - loss: 0.0012\n",
            "Epoch 32/100\n",
            "83/83 [==============================] - 17s 203ms/step - loss: 0.0011\n",
            "Epoch 33/100\n",
            "83/83 [==============================] - 17s 199ms/step - loss: 9.6822e-04\n",
            "Epoch 34/100\n",
            "83/83 [==============================] - 17s 206ms/step - loss: 0.0011\n",
            "Epoch 35/100\n",
            "83/83 [==============================] - 17s 205ms/step - loss: 0.0012\n",
            "Epoch 36/100\n",
            "83/83 [==============================] - 16s 199ms/step - loss: 0.0011\n",
            "Epoch 37/100\n",
            "83/83 [==============================] - 17s 202ms/step - loss: 9.8386e-04\n",
            "Epoch 38/100\n",
            "83/83 [==============================] - 17s 200ms/step - loss: 0.0011\n",
            "Epoch 39/100\n",
            "83/83 [==============================] - 17s 203ms/step - loss: 0.0011\n",
            "Epoch 40/100\n",
            "83/83 [==============================] - 16s 198ms/step - loss: 0.0011\n",
            "Epoch 41/100\n",
            "83/83 [==============================] - 17s 200ms/step - loss: 0.0010\n",
            "Epoch 42/100\n",
            "83/83 [==============================] - 17s 202ms/step - loss: 0.0011\n",
            "Epoch 43/100\n",
            "83/83 [==============================] - 17s 200ms/step - loss: 9.5709e-04\n",
            "Epoch 44/100\n",
            "83/83 [==============================] - 17s 201ms/step - loss: 9.0474e-04\n",
            "Epoch 45/100\n",
            "83/83 [==============================] - 17s 199ms/step - loss: 0.0011\n",
            "Epoch 46/100\n",
            "83/83 [==============================] - 17s 200ms/step - loss: 8.6918e-04\n",
            "Epoch 47/100\n",
            "83/83 [==============================] - 17s 199ms/step - loss: 8.3651e-04\n",
            "Epoch 48/100\n",
            "83/83 [==============================] - 17s 199ms/step - loss: 9.4454e-04\n",
            "Epoch 49/100\n",
            "83/83 [==============================] - 17s 200ms/step - loss: 8.6894e-04\n",
            "Epoch 50/100\n",
            "83/83 [==============================] - 17s 200ms/step - loss: 8.5740e-04\n",
            "Epoch 51/100\n",
            "83/83 [==============================] - 16s 198ms/step - loss: 9.9729e-04\n",
            "Epoch 52/100\n",
            "83/83 [==============================] - 17s 203ms/step - loss: 9.2671e-04\n",
            "Epoch 53/100\n",
            "83/83 [==============================] - 17s 203ms/step - loss: 9.6522e-04\n",
            "Epoch 54/100\n",
            "83/83 [==============================] - 17s 201ms/step - loss: 8.5802e-04\n",
            "Epoch 55/100\n",
            "83/83 [==============================] - 16s 198ms/step - loss: 8.3804e-04\n",
            "Epoch 56/100\n",
            "83/83 [==============================] - 17s 201ms/step - loss: 8.3782e-04\n",
            "Epoch 57/100\n",
            "83/83 [==============================] - 17s 200ms/step - loss: 8.8202e-04\n",
            "Epoch 58/100\n",
            "83/83 [==============================] - 16s 198ms/step - loss: 8.3877e-04\n",
            "Epoch 59/100\n",
            "83/83 [==============================] - 17s 200ms/step - loss: 9.0631e-04\n",
            "Epoch 60/100\n",
            "83/83 [==============================] - 17s 200ms/step - loss: 8.2788e-04\n",
            "Epoch 61/100\n",
            "83/83 [==============================] - 17s 201ms/step - loss: 7.7038e-04\n",
            "Epoch 62/100\n",
            "83/83 [==============================] - 17s 200ms/step - loss: 7.7964e-04\n",
            "Epoch 63/100\n",
            "83/83 [==============================] - 17s 200ms/step - loss: 9.2507e-04\n",
            "Epoch 64/100\n",
            "83/83 [==============================] - 17s 200ms/step - loss: 8.6105e-04\n",
            "Epoch 65/100\n",
            "83/83 [==============================] - 17s 200ms/step - loss: 8.3121e-04\n",
            "Epoch 66/100\n",
            "83/83 [==============================] - 17s 200ms/step - loss: 9.6552e-04\n",
            "Epoch 67/100\n",
            "83/83 [==============================] - 17s 203ms/step - loss: 8.6193e-04\n",
            "Epoch 68/100\n",
            "83/83 [==============================] - 17s 200ms/step - loss: 8.3980e-04\n",
            "Epoch 69/100\n",
            "83/83 [==============================] - 17s 201ms/step - loss: 8.7609e-04\n",
            "Epoch 70/100\n",
            "83/83 [==============================] - 17s 202ms/step - loss: 7.3752e-04\n",
            "Epoch 71/100\n",
            "83/83 [==============================] - 17s 207ms/step - loss: 8.0657e-04\n",
            "Epoch 72/100\n",
            "83/83 [==============================] - 17s 203ms/step - loss: 7.2910e-04\n",
            "Epoch 73/100\n",
            "83/83 [==============================] - 17s 200ms/step - loss: 8.1665e-04\n",
            "Epoch 74/100\n",
            "83/83 [==============================] - 17s 201ms/step - loss: 6.9773e-04\n",
            "Epoch 75/100\n",
            "83/83 [==============================] - 17s 201ms/step - loss: 8.1933e-04\n",
            "Epoch 76/100\n",
            "83/83 [==============================] - 17s 200ms/step - loss: 7.0846e-04\n",
            "Epoch 77/100\n",
            "83/83 [==============================] - 17s 202ms/step - loss: 0.0010\n",
            "Epoch 78/100\n",
            "83/83 [==============================] - 17s 202ms/step - loss: 7.9393e-04\n",
            "Epoch 79/100\n",
            "83/83 [==============================] - 17s 200ms/step - loss: 7.1119e-04\n",
            "Epoch 80/100\n",
            "83/83 [==============================] - 17s 201ms/step - loss: 7.7689e-04\n",
            "Epoch 81/100\n",
            "83/83 [==============================] - 17s 202ms/step - loss: 7.0314e-04\n",
            "Epoch 82/100\n",
            "83/83 [==============================] - 17s 203ms/step - loss: 6.9561e-04\n",
            "Epoch 83/100\n",
            "83/83 [==============================] - 17s 203ms/step - loss: 7.0003e-04\n",
            "Epoch 84/100\n",
            "83/83 [==============================] - 17s 201ms/step - loss: 6.8101e-04\n",
            "Epoch 85/100\n",
            "83/83 [==============================] - 17s 199ms/step - loss: 7.4086e-04\n",
            "Epoch 86/100\n",
            "83/83 [==============================] - 17s 200ms/step - loss: 7.4624e-04\n",
            "Epoch 87/100\n",
            "83/83 [==============================] - 17s 200ms/step - loss: 6.4817e-04\n",
            "Epoch 88/100\n",
            "83/83 [==============================] - 17s 200ms/step - loss: 8.1173e-04\n",
            "Epoch 89/100\n",
            "83/83 [==============================] - 17s 206ms/step - loss: 7.1782e-04\n",
            "Epoch 90/100\n",
            "83/83 [==============================] - 17s 207ms/step - loss: 6.8455e-04\n",
            "Epoch 91/100\n",
            "83/83 [==============================] - 17s 200ms/step - loss: 7.3581e-04\n",
            "Epoch 92/100\n",
            "83/83 [==============================] - 17s 201ms/step - loss: 6.9097e-04\n",
            "Epoch 93/100\n",
            "83/83 [==============================] - 17s 199ms/step - loss: 7.2749e-04\n",
            "Epoch 94/100\n",
            "83/83 [==============================] - 17s 200ms/step - loss: 6.3351e-04\n",
            "Epoch 95/100\n",
            "83/83 [==============================] - 17s 199ms/step - loss: 6.3780e-04\n",
            "Epoch 96/100\n",
            "83/83 [==============================] - 17s 200ms/step - loss: 7.4077e-04\n",
            "Epoch 97/100\n",
            "83/83 [==============================] - 16s 197ms/step - loss: 8.3325e-04\n",
            "Epoch 98/100\n",
            "83/83 [==============================] - 17s 203ms/step - loss: 6.7729e-04\n",
            "Epoch 99/100\n",
            "83/83 [==============================] - 17s 202ms/step - loss: 7.2196e-04\n",
            "Epoch 100/100\n",
            "83/83 [==============================] - 16s 199ms/step - loss: 6.7438e-04\n"
          ],
          "name": "stdout"
        },
        {
          "output_type": "execute_result",
          "data": {
            "text/plain": [
              "<tensorflow.python.keras.callbacks.History at 0x7fdad6e4c4a8>"
            ]
          },
          "metadata": {
            "tags": []
          },
          "execution_count": 33
        }
      ]
    },
    {
      "cell_type": "markdown",
      "metadata": {
        "id": "4hRau_lIkrE8"
      },
      "source": [
        "## Part 3 - Making the predictions and visualising the results"
      ]
    },
    {
      "cell_type": "code",
      "metadata": {
        "id": "v1XIE92qKkri"
      },
      "source": [
        "dataset_test = pd.read_csv('test.csv')\n",
        "real_stock_price = dataset_test.iloc[:, 1:2].values"
      ],
      "execution_count": 34,
      "outputs": []
    },
    {
      "cell_type": "markdown",
      "metadata": {
        "id": "SgJO6qEDksxD"
      },
      "source": [
        "### Getting the real stock price of 2017"
      ]
    },
    {
      "cell_type": "code",
      "metadata": {
        "id": "FmBT2zqukxTz"
      },
      "source": [
        ""
      ],
      "execution_count": 34,
      "outputs": []
    },
    {
      "cell_type": "markdown",
      "metadata": {
        "id": "GrvrLblxkz42"
      },
      "source": [
        "### Getting the predicted stock price of 2017"
      ]
    },
    {
      "cell_type": "code",
      "metadata": {
        "id": "emikTvUpk3Ck"
      },
      "source": [
        "dataset_total = pd.concat((dataset_train['Open'], dataset_test['Open']), axis = 0)\n",
        "inputs = dataset_total[len(dataset_total) - len(dataset_test) - 60:].values\n",
        "inputs = inputs.reshape(-1,1)\n",
        "inputs = sc.transform(inputs)\n",
        "X_test = []\n",
        "for i in range(60, 80):\n",
        "    X_test.append(inputs[i-60:i, 0])\n",
        "X_test = np.array(X_test)\n",
        "X_test = np.reshape(X_test, (X_test.shape[0], X_test.shape[1], 1))\n",
        "predicted_stock_price = regressor.predict(X_test)\n",
        "predicted_stock_price = sc.inverse_transform(predicted_stock_price)"
      ],
      "execution_count": 35,
      "outputs": []
    },
    {
      "cell_type": "markdown",
      "metadata": {
        "id": "iFTNs3YHk6FQ"
      },
      "source": [
        "### Visualising the results"
      ]
    },
    {
      "cell_type": "code",
      "metadata": {
        "colab": {
          "base_uri": "https://localhost:8080/",
          "height": 295
        },
        "id": "8OUI8U49k9tH",
        "outputId": "48d09433-4162-4a98-9516-a224dd265cc2"
      },
      "source": [
        "plt.plot(real_stock_price, color = 'red', label = 'Real Google Stock Price')\n",
        "plt.plot(predicted_stock_price, color = 'blue', label = 'Predicted Google Stock Price')\n",
        "plt.title('Google Stock Price Prediction')\n",
        "plt.xlabel('Time')\n",
        "plt.ylabel('Google Stock Price')\n",
        "plt.legend()\n",
        "plt.show()"
      ],
      "execution_count": 36,
      "outputs": [
        {
          "output_type": "display_data",
          "data": {
            "image/png": "[encoded data removed]",
            "text/plain": [
              "<Figure size 432x288 with 1 Axes>"
            ]
          },
          "metadata": {
            "tags": [],
            "needs_background": "light"
          }
        }
      ]
    },
    {
      "cell_type": "code",
      "metadata": {
        "id": "VTwV_j7FkBHx"
      },
      "source": [
        ""
      ],
      "execution_count": 36,
      "outputs": []
    }
  ]
}